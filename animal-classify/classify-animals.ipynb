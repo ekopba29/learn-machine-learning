{
 "cells": [
  {
   "cell_type": "code",
   "execution_count": 2,
   "metadata": {},
   "outputs": [],
   "source": [
    "# DATASET : https://www.kaggle.com/datasets/alessiocorrado99/animals10"
   ]
  },
  {
   "cell_type": "code",
   "execution_count": 3,
   "metadata": {},
   "outputs": [],
   "source": [
    "# usual imports\n",
    "import numpy as np\n",
    "import pandas as pd\n",
    "import matplotlib.pyplot as plt\n",
    "import tensorflow as tf\n",
    "import os\n",
    "from tensorflow.keras.preprocessing.image import ImageDataGenerator\n",
    "from tensorflow.keras.applications import VGG16\n",
    "from tensorflow.keras.callbacks import EarlyStopping\n",
    "from tensorflow.keras.applications import VGG16\n",
    "from tensorflow.keras import Sequential\n",
    "from tensorflow.keras.layers import Dense, Flatten\n",
    "from tensorflow.keras.layers import Conv2D, MaxPooling2D\n"
   ]
  },
  {
   "cell_type": "code",
   "execution_count": 4,
   "metadata": {},
   "outputs": [],
   "source": [
    "path_image = './animals/used'"
   ]
  },
  {
   "cell_type": "code",
   "execution_count": 5,
   "metadata": {},
   "outputs": [],
   "source": [
    "\n",
    "# Buat model VGG16 (tanpa lapisan terakhir/final layer)\n",
    "vgg_model = VGG16(weights='imagenet', include_top=False, input_shape=(150, 150, 3))\n",
    "\n",
    "# Membekukan lapisan-lapisan model VGG16 agar tidak terlatih\n",
    "for layer in vgg_model.layers:\n",
    "    layer.trainable = False"
   ]
  },
  {
   "cell_type": "code",
   "execution_count": 6,
   "metadata": {},
   "outputs": [
    {
     "name": "stdout",
     "output_type": "stream",
     "text": [
      "Found 10227 images belonging to 3 classes.\n",
      "Found 2555 images belonging to 3 classes.\n",
      "List of label : ['cane', 'gallina', 'ragno']\n"
     ]
    }
   ],
   "source": [
    "augmentation = ImageDataGenerator(\n",
    "    rescale=1./255,\n",
    "    rotation_range=20,\n",
    "    horizontal_flip=True,\n",
    "    vertical_flip=True,\n",
    "    shear_range=0.2,\n",
    "    fill_mode='nearest',\n",
    "    validation_split=0.2,\n",
    ")\n",
    "\n",
    "train_data = augmentation.flow_from_directory(\n",
    "    path_image,\n",
    "    target_size=(150, 150),\n",
    "    class_mode='categorical',\n",
    "    subset='training'\n",
    ")\n",
    "\n",
    "validation_data = augmentation.flow_from_directory(\n",
    "    path_image,\n",
    "    target_size=(150, 150),\n",
    "    class_mode='categorical',\n",
    "    subset='validation'\n",
    ")\n",
    "\n",
    "labels = list(train_data.class_indices)\n",
    "\n",
    "print(f'List of label : {list(train_data.class_indices)}')"
   ]
  },
  {
   "cell_type": "code",
   "execution_count": 10,
   "metadata": {},
   "outputs": [],
   "source": [
    "ACCURACY_TRESHOLD = 95e-2\n",
    "\n",
    "\n",
    "class CallbackTraining(tf.keras.callbacks.Callback):\n",
    "    def on_epoch_end(self, epoch, logs=None):\n",
    "        v_accuracy = logs.get('val_accuracy')\n",
    "        accuracy = logs.get('accuracy')\n",
    "        if accuracy >= ACCURACY_TRESHOLD and v_accuracy >= ACCURACY_TRESHOLD:\n",
    "            print(\n",
    "                f'\\n Epoch {epoch}\\n Accuracy has reach = {logs[\"accuracy\"]*100:.2f}%/n training has been stopped.')\n",
    "            self.model.stop_training = True\n",
    "\n",
    "\n",
    "early_stop_callback = EarlyStopping(\n",
    "    monitor='val_accuracy',\n",
    "    patience=100,\n",
    "    restore_best_weights=True\n",
    ")"
   ]
  },
  {
   "cell_type": "code",
   "execution_count": 11,
   "metadata": {},
   "outputs": [
    {
     "name": "stdout",
     "output_type": "stream",
     "text": [
      "Epoch 1/100\n",
      "320/320 [==============================] - 2380s 7s/step - loss: 0.3613 - accuracy: 0.8518 - val_loss: 0.4110 - val_accuracy: 0.8125\n",
      "Epoch 2/100\n",
      "320/320 [==============================] - 2092s 7s/step - loss: 0.2608 - accuracy: 0.8986 - val_loss: 0.2531 - val_accuracy: 0.9062\n",
      "Epoch 3/100\n",
      "320/320 [==============================] - 2081s 6s/step - loss: 0.2262 - accuracy: 0.9095 - val_loss: 0.2047 - val_accuracy: 0.9453\n",
      "Epoch 4/100\n",
      "320/320 [==============================] - 1902s 6s/step - loss: 0.2107 - accuracy: 0.9168 - val_loss: 0.2291 - val_accuracy: 0.8984\n",
      "Epoch 5/100\n",
      "320/320 [==============================] - 887s 3s/step - loss: 0.1960 - accuracy: 0.9227 - val_loss: 0.3256 - val_accuracy: 0.8672\n",
      "Epoch 6/100\n",
      "320/320 [==============================] - 887s 3s/step - loss: 0.1813 - accuracy: 0.9307 - val_loss: 0.2334 - val_accuracy: 0.8906\n",
      "Epoch 7/100\n",
      "320/320 [==============================] - 887s 3s/step - loss: 0.1673 - accuracy: 0.9363 - val_loss: 0.2685 - val_accuracy: 0.8750\n",
      "Epoch 8/100\n",
      "320/320 [==============================] - 889s 3s/step - loss: 0.1656 - accuracy: 0.9392 - val_loss: 0.2219 - val_accuracy: 0.9219\n",
      "Epoch 9/100\n",
      "320/320 [==============================] - 886s 3s/step - loss: 0.1613 - accuracy: 0.9382 - val_loss: 0.2799 - val_accuracy: 0.9297\n",
      "Epoch 10/100\n",
      "320/320 [==============================] - 887s 3s/step - loss: 0.1496 - accuracy: 0.9431 - val_loss: 0.1218 - val_accuracy: 0.9609\n",
      "Epoch 11/100\n",
      "320/320 [==============================] - 887s 3s/step - loss: 0.1505 - accuracy: 0.9422 - val_loss: 0.1126 - val_accuracy: 0.9453\n",
      "Epoch 12/100\n",
      "320/320 [==============================] - 890s 3s/step - loss: 0.1345 - accuracy: 0.9487 - val_loss: 0.2222 - val_accuracy: 0.9297\n",
      "Epoch 13/100\n",
      "320/320 [==============================] - 888s 3s/step - loss: 0.1378 - accuracy: 0.9460 - val_loss: 0.2132 - val_accuracy: 0.9219\n",
      "Epoch 14/100\n",
      "320/320 [==============================] - 889s 3s/step - loss: 0.1283 - accuracy: 0.9517 - val_loss: 0.2285 - val_accuracy: 0.9141\n",
      "Epoch 15/100\n",
      "320/320 [==============================] - 890s 3s/step - loss: 0.1240 - accuracy: 0.9525 - val_loss: 0.3230 - val_accuracy: 0.8828\n",
      "Epoch 16/100\n",
      "320/320 [==============================] - 890s 3s/step - loss: 0.1237 - accuracy: 0.9510 - val_loss: 0.2095 - val_accuracy: 0.9375\n",
      "Epoch 17/100\n",
      "320/320 [==============================] - ETA: 0s - loss: 0.1206 - accuracy: 0.9508 \n",
      " Epoch 16\n",
      " Accuracy has reach = 95.08%/n training has been stopped.\n",
      "320/320 [==============================] - 4419s 14s/step - loss: 0.1206 - accuracy: 0.9508 - val_loss: 0.1872 - val_accuracy: 0.9531\n"
     ]
    }
   ],
   "source": [
    "# Buat model VGG16 (tanpa lapisan terakhir/final layer)\n",
    "vgg_model = VGG16(weights='imagenet', include_top=False, input_shape=(150, 150, 3))\n",
    "\n",
    "# Membekukan lapisan-lapisan model VGG16 agar tidak terlatih\n",
    "for layer in vgg_model.layers:\n",
    "    layer.trainable = False\n",
    "\n",
    "model_3 = tf.keras.models.Sequential([\n",
    "    vgg_model,\n",
    "    tf.keras.layers.Conv2D(128, (3, 3), activation='relu'),\n",
    "    tf.keras.layers.MaxPooling2D(2, 2),\n",
    "    tf.keras.layers.Flatten(),\n",
    "    tf.keras.layers.Dense(128, activation='relu'),\n",
    "    tf.keras.layers.Dense(32, activation='relu'),\n",
    "    tf.keras.layers.Dense(3, activation='softmax')\n",
    "])\n",
    "\n",
    "# count loss function and optimizer\n",
    "model_3.compile(\n",
    "    loss='categorical_crossentropy',\n",
    "    optimizer=tf.optimizers.legacy.Adam(learning_rate=0.001),\n",
    "    metrics=['accuracy']\n",
    ")\n",
    "\n",
    "# train data\n",
    "history = model_3.fit(\n",
    "    train_data,\n",
    "    epochs=100,\n",
    "    validation_data=validation_data,\n",
    "    validation_steps=4,\n",
    "    verbose=1,\n",
    "    shuffle=True,\n",
    "    callbacks=[CallbackTraining(),early_stop_callback]\n",
    ")"
   ]
  },
  {
   "cell_type": "code",
   "execution_count": 15,
   "metadata": {},
   "outputs": [
    {
     "name": "stdout",
     "output_type": "stream",
     "text": [
      "INFO:tensorflow:Assets written to: /var/folders/45/8ksqghhx247_vvwdc672hb840000gn/T/tmp144gj7c3/assets\n"
     ]
    },
    {
     "name": "stderr",
     "output_type": "stream",
     "text": [
      "INFO:tensorflow:Assets written to: /var/folders/45/8ksqghhx247_vvwdc672hb840000gn/T/tmp144gj7c3/assets\n",
      "2023-10-01 07:07:35.653934: W tensorflow/compiler/mlir/lite/python/tf_tfl_flatbuffer_helpers.cc:364] Ignored output_format.\n",
      "2023-10-01 07:07:35.654073: W tensorflow/compiler/mlir/lite/python/tf_tfl_flatbuffer_helpers.cc:367] Ignored drop_control_dependency.\n",
      "2023-10-01 07:07:35.656756: I tensorflow/cc/saved_model/reader.cc:45] Reading SavedModel from: /var/folders/45/8ksqghhx247_vvwdc672hb840000gn/T/tmp144gj7c3\n",
      "2023-10-01 07:07:35.658728: I tensorflow/cc/saved_model/reader.cc:91] Reading meta graph with tags { serve }\n",
      "2023-10-01 07:07:35.658733: I tensorflow/cc/saved_model/reader.cc:132] Reading SavedModel debug info (if present) from: /var/folders/45/8ksqghhx247_vvwdc672hb840000gn/T/tmp144gj7c3\n",
      "2023-10-01 07:07:35.665735: I tensorflow/compiler/mlir/mlir_graph_optimization_pass.cc:375] MLIR V1 optimization pass is not enabled\n",
      "2023-10-01 07:07:35.667995: I tensorflow/cc/saved_model/loader.cc:231] Restoring SavedModel bundle.\n",
      "2023-10-01 07:07:35.832195: I tensorflow/cc/saved_model/loader.cc:215] Running initialization op on SavedModel bundle at path: /var/folders/45/8ksqghhx247_vvwdc672hb840000gn/T/tmp144gj7c3\n",
      "2023-10-01 07:07:35.855205: I tensorflow/cc/saved_model/loader.cc:314] SavedModel load for tags { serve }; Status: success: OK. Took 198443 microseconds.\n",
      "2023-10-01 07:07:35.891368: I tensorflow/compiler/mlir/tensorflow/utils/dump_mlir_util.cc:255] disabling MLIR crash reproducer, set env var `MLIR_CRASH_REPRODUCER_DIRECTORY` to enable.\n"
     ]
    }
   ],
   "source": [
    "file_name = 'model_anjing_ayam_laba2.keras'\n",
    "model_3.save(file_name)\n",
    "\n",
    "converter = tf.lite.TFLiteConverter.from_keras_model(model_3)\n",
    "tflite_model = converter.convert()\n",
    " \n",
    " \n",
    "with tf.io.gfile.GFile('model_anjing_ayam_laba2.tflite', 'wb') as f:\n",
    "    f.write(tflite_model)"
   ]
  },
  {
   "cell_type": "code",
   "execution_count": 21,
   "metadata": {},
   "outputs": [
    {
     "data": {
      "image/png": "[encoded data removed]",
      "text/plain": [
       "<Figure size 640x480 with 1 Axes>"
      ]
     },
     "metadata": {},
     "output_type": "display_data"
    }
   ],
   "source": [
    "plt.title(\"Epoch Result\")\n",
    "plt.plot(history.history.get('accuracy'))\n",
    "plt.plot(history.history.get('val_accuracy'))\n",
    "plt.plot(history.history.get('loss'))\n",
    "plt.legend(['accuracy','val_accuracy','loss'])\n",
    "plt.show()"
   ]
  }
 ],
 "metadata": {
  "kernelspec": {
   "display_name": "Python 3",
   "language": "python",
   "name": "python3"
  },
  "language_info": {
   "codemirror_mode": {
    "name": "ipython",
    "version": 3
   },
   "file_extension": ".py",
   "mimetype": "text/x-python",
   "name": "python",
   "nbconvert_exporter": "python",
   "pygments_lexer": "ipython3",
   "version": "3.10.13"
  },
  "orig_nbformat": 4
 },
 "nbformat": 4,
 "nbformat_minor": 2
}
